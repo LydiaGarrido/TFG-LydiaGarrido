{
 "cells": [
  {
   "cell_type": "code",
   "execution_count": 1,
   "metadata": {},
   "outputs": [],
   "source": [
    "import sys\n",
    "\n",
    "from pyspark.sql import SparkSession\n",
    "from pyspark.sql.functions import count\n",
    "from pyspark.sql.functions import max, min, col\n",
    "\n",
    "import matplotlib.pyplot as plt\n",
    "import matplotlib.cbook as cbook\n",
    "\n",
    "import numpy as np\n",
    "import pandas as pd\n",
    "\n",
    "from graphframes import *\n",
    "from pyspark.sql.types import *\n",
    "from graphframes import *"
   ]
  },
  {
   "cell_type": "code",
   "execution_count": 2,
   "metadata": {},
   "outputs": [],
   "source": [
    "# Load external packages programatically\n",
    "# Here, we assume that you use Spark 3.0.1 or later (compiled against Scala 2.12)\n",
    "import os\n",
    "packages = \"graphframes:graphframes:0.8.1-spark3.0-s_2.12\"\n",
    "# jars = \"graphframes-0.3.0-spark2.0-s_2.11.jar\"\n",
    "\n",
    "os.environ[\"PYSPARK_SUBMIT_ARGS\"] = (\n",
    "    \"--repositories https://repos.spark-packages.org/ --packages {0} pyspark-shell\".format(packages)\n",
    ")\n",
    "#os.environ[\"PYSPARK_SUBMIT_ARGS\"] = (\n",
    "#    \"--packages {0} --jars {1} pyspark-shell\".format(packages, jars)\n",
    "#)"
   ]
  },
  {
   "cell_type": "code",
   "execution_count": 3,
   "metadata": {},
   "outputs": [],
   "source": [
    "spark = (SparkSession     \n",
    "         .builder     \n",
    "         .appName(\"Stackoverflow\")     \n",
    "         .getOrCreate())"
   ]
  },
  {
   "cell_type": "code",
   "execution_count": 4,
   "metadata": {},
   "outputs": [],
   "source": [
    "stack_nodes_df = (spark.read.format(\"csv\")      \n",
    "          .option(\"header\", \"true\")      \n",
    "          .option(\"inferSchema\", \"true\")      \n",
    "          .load(\"data/stack_network_nodes.csv\"))"
   ]
  },
  {
   "cell_type": "code",
   "execution_count": 5,
   "metadata": {},
   "outputs": [],
   "source": [
    "stack_links_df = (spark.read.format(\"csv\")      \n",
    "          .option(\"header\", \"true\")      \n",
    "          .option(\"inferSchema\", \"true\")      \n",
    "          .load(\"data/stack_network_links.csv\"))"
   ]
  },
  {
   "cell_type": "code",
   "execution_count": 6,
   "metadata": {},
   "outputs": [],
   "source": [
    "count_stack_df_1 = (stack_nodes_df     \n",
    "                .select(col(\"id\").alias(\"PopularTopic\"), \"nodesize\")      \n",
    "                .groupBy(\"PopularTopic\")      \n",
    "                .agg(max(\"nodesize\").alias(\"nodesize\"))      \n",
    "                .orderBy(\"nodesize\", ascending=False))"
   ]
  },
  {
   "cell_type": "code",
   "execution_count": 7,
   "metadata": {},
   "outputs": [
    {
     "name": "stdout",
     "output_type": "stream",
     "text": [
      "+-------------------+--------+\n",
      "|PopularTopic       |nodesize|\n",
      "+-------------------+--------+\n",
      "|javascript         |649.16  |\n",
      "|java               |610.65  |\n",
      "|python             |438.67  |\n",
      "|php                |361.22  |\n",
      "|css                |341.17  |\n",
      "|c#                 |321.13  |\n",
      "|html               |272.45  |\n",
      "|c++                |268.11  |\n",
      "|android            |229.86  |\n",
      "|jquery             |208.29  |\n",
      "|c                  |189.83  |\n",
      "|mysql              |165.43  |\n",
      "|sql                |154.23  |\n",
      "|html5              |140.18  |\n",
      "|asp.net            |129.55  |\n",
      "|angularjs          |126.59  |\n",
      "|node.js            |117.36  |\n",
      "|linux              |108.54  |\n",
      "|ios                |87.46   |\n",
      "|.net               |75.08   |\n",
      "|ruby               |70.14   |\n",
      "|sql-server         |64.62   |\n",
      "|swift              |63.62   |\n",
      "|reactjs            |59.03   |\n",
      "|ruby-on-rails      |55.31   |\n",
      "|git                |54.48   |\n",
      "|spring             |52.84   |\n",
      "|r                  |52.7    |\n",
      "|mongodb            |50.95   |\n",
      "|objective-c        |47.01   |\n",
      "|wordpress          |46.74   |\n",
      "|machine-learning   |44.21   |\n",
      "|django             |40.91   |\n",
      "|postgresql         |39.03   |\n",
      "|ajax               |35.41   |\n",
      "|laravel            |32.12   |\n",
      "|twitter-bootstrap  |31.05   |\n",
      "|sass               |30.55   |\n",
      "|oracle             |30.19   |\n",
      "|amazon-web-services|30.05   |\n",
      "|hibernate          |29.83   |\n",
      "|angular            |29.09   |\n",
      "|matlab             |27.21   |\n",
      "|rest               |27.08   |\n",
      "|scala              |27.02   |\n",
      "|json               |25.38   |\n",
      "|go                 |24.84   |\n",
      "|bash               |23.91   |\n",
      "|xml                |23.77   |\n",
      "|vb.net             |23.56   |\n",
      "|docker             |22.85   |\n",
      "|java-ee            |22.45   |\n",
      "|windows            |19.71   |\n",
      "|wpf                |19.38   |\n",
      "|perl               |19.38   |\n",
      "|unity3d            |19.36   |\n",
      "|web-services       |18.94   |\n",
      "|angular2           |18.79   |\n",
      "|codeigniter        |18.71   |\n",
      "|visual-studio      |18.13   |\n",
      "+-------------------+--------+\n",
      "only showing top 60 rows\n",
      "\n",
      "Total Rows = 115\n"
     ]
    }
   ],
   "source": [
    "count_stack_df_1.show(n=60, truncate=False)   \n",
    "print(\"Total Rows = %d\" % (count_stack_df_1.count()))"
   ]
  },
  {
   "cell_type": "code",
   "execution_count": 8,
   "metadata": {},
   "outputs": [
    {
     "name": "stdout",
     "output_type": "stream",
     "text": [
      "Total Rows = 115\n"
     ]
    }
   ],
   "source": [
    "count_stack_df_2 = (stack_nodes_df     \n",
    "                .select(col(\"id\").alias(\"LessPopularTopic\"), \"nodesize\")      \n",
    "                .groupBy(\"LessPopularTopic\")      \n",
    "                .agg(min(\"nodesize\").alias(\"nodesize\"))      \n",
    "                .orderBy(\"nodesize\", ascending=True))\n",
    "print(\"Total Rows = %d\" % (count_stack_df_2.count()))"
   ]
  },
  {
   "cell_type": "code",
   "execution_count": 9,
   "metadata": {},
   "outputs": [
    {
     "name": "stdout",
     "output_type": "stream",
     "text": [
      "+-------------------+--------+\n",
      "|LessPopularTopic   |nodesize|\n",
      "+-------------------+--------+\n",
      "|drupal             |8.25    |\n",
      "|linq               |8.32    |\n",
      "|vue.js             |8.38    |\n",
      "|ionic-framework    |8.44    |\n",
      "|redux              |8.52    |\n",
      "|api                |8.61    |\n",
      "|testing            |8.95    |\n",
      "|flask              |9.39    |\n",
      "|tdd                |9.45    |\n",
      "|regex              |9.46    |\n",
      "|nginx              |9.49    |\n",
      "|less               |9.73    |\n",
      "|devops             |9.81    |\n",
      "|powershell         |9.85    |\n",
      "|jenkins            |10.02   |\n",
      "|twitter-bootstrap-3|10.13   |\n",
      "|maven              |10.3    |\n",
      "|plsql              |10.32   |\n",
      "|qt                 |10.53   |\n",
      "|cloud              |10.66   |\n",
      "|elasticsearch      |10.82   |\n",
      "|mvc                |10.92   |\n",
      "|apache-spark       |11.04   |\n",
      "|xamarin            |11.18   |\n",
      "|haskell            |11.18   |\n",
      "|asp.net-web-api    |11.28   |\n",
      "|xcode              |11.37   |\n",
      "|excel-vba          |11.38   |\n",
      "|eclipse            |11.39   |\n",
      "|shell              |11.63   |\n",
      "|ubuntu             |11.98   |\n",
      "|agile              |12.22   |\n",
      "|spring-boot        |12.37   |\n",
      "|excel              |12.5    |\n",
      "|osx                |12.58   |\n",
      "|photoshop          |12.62   |\n",
      "|selenium           |12.7    |\n",
      "|github             |12.71   |\n",
      "|wcf                |12.73   |\n",
      "|entity-framework   |12.88   |\n",
      "|apache             |13.17   |\n",
      "|embedded           |13.27   |\n",
      "|bootstrap          |13.28   |\n",
      "|react-native       |13.61   |\n",
      "|azure              |13.68   |\n",
      "|jsp                |13.78   |\n",
      "|redis              |13.85   |\n",
      "|express            |14.27   |\n",
      "|android-studio     |14.79   |\n",
      "|iphone             |15.29   |\n",
      "|unix               |15.67   |\n",
      "|vba                |16.87   |\n",
      "|typescript         |17.53   |\n",
      "|hadoop             |17.95   |\n",
      "|spring-mvc         |18.0    |\n",
      "|visual-studio      |18.13   |\n",
      "|codeigniter        |18.71   |\n",
      "|angular2           |18.79   |\n",
      "|web-services       |18.94   |\n",
      "|unity3d            |19.36   |\n",
      "+-------------------+--------+\n",
      "only showing top 60 rows\n",
      "\n",
      "Total Rows = 115\n"
     ]
    }
   ],
   "source": [
    "count_stack_df_2.show(n=60, truncate=False)   \n",
    "print(\"Total Rows = %d\" % (count_stack_df_2.count()))"
   ]
  },
  {
   "cell_type": "code",
   "execution_count": 10,
   "metadata": {},
   "outputs": [],
   "source": [
    "df_nodes = pd.read_csv('data/stack_network_nodes.csv', header=None)"
   ]
  },
  {
   "cell_type": "code",
   "execution_count": 11,
   "metadata": {},
   "outputs": [
    {
     "data": {
      "text/html": [
       "<div>\n",
       "<style scoped>\n",
       "    .dataframe tbody tr th:only-of-type {\n",
       "        vertical-align: middle;\n",
       "    }\n",
       "\n",
       "    .dataframe tbody tr th {\n",
       "        vertical-align: top;\n",
       "    }\n",
       "\n",
       "    .dataframe thead th {\n",
       "        text-align: right;\n",
       "    }\n",
       "</style>\n",
       "<table border=\"1\" class=\"dataframe\">\n",
       "  <thead>\n",
       "    <tr style=\"text-align: right;\">\n",
       "      <th></th>\n",
       "      <th>0</th>\n",
       "      <th>1</th>\n",
       "      <th>2</th>\n",
       "    </tr>\n",
       "  </thead>\n",
       "  <tbody>\n",
       "    <tr>\n",
       "      <th>0</th>\n",
       "      <td>id</td>\n",
       "      <td>group</td>\n",
       "      <td>nodesize</td>\n",
       "    </tr>\n",
       "    <tr>\n",
       "      <th>1</th>\n",
       "      <td>html</td>\n",
       "      <td>6</td>\n",
       "      <td>272.45</td>\n",
       "    </tr>\n",
       "    <tr>\n",
       "      <th>2</th>\n",
       "      <td>css</td>\n",
       "      <td>6</td>\n",
       "      <td>341.17</td>\n",
       "    </tr>\n",
       "    <tr>\n",
       "      <th>3</th>\n",
       "      <td>hibernate</td>\n",
       "      <td>8</td>\n",
       "      <td>29.83</td>\n",
       "    </tr>\n",
       "    <tr>\n",
       "      <th>4</th>\n",
       "      <td>spring</td>\n",
       "      <td>8</td>\n",
       "      <td>52.84</td>\n",
       "    </tr>\n",
       "  </tbody>\n",
       "</table>\n",
       "</div>"
      ],
      "text/plain": [
       "           0      1         2\n",
       "0         id  group  nodesize\n",
       "1       html      6    272.45\n",
       "2        css      6    341.17\n",
       "3  hibernate      8     29.83\n",
       "4     spring      8     52.84"
      ]
     },
     "execution_count": 11,
     "metadata": {},
     "output_type": "execute_result"
    }
   ],
   "source": [
    "df_nodes.head()"
   ]
  },
  {
   "cell_type": "code",
   "execution_count": 12,
   "metadata": {},
   "outputs": [],
   "source": [
    "df_links = pd.read_csv('data/stack_network_links.csv', header=None)"
   ]
  },
  {
   "cell_type": "code",
   "execution_count": 13,
   "metadata": {},
   "outputs": [
    {
     "data": {
      "text/html": [
       "<div>\n",
       "<style scoped>\n",
       "    .dataframe tbody tr th:only-of-type {\n",
       "        vertical-align: middle;\n",
       "    }\n",
       "\n",
       "    .dataframe tbody tr th {\n",
       "        vertical-align: top;\n",
       "    }\n",
       "\n",
       "    .dataframe thead th {\n",
       "        text-align: right;\n",
       "    }\n",
       "</style>\n",
       "<table border=\"1\" class=\"dataframe\">\n",
       "  <thead>\n",
       "    <tr style=\"text-align: right;\">\n",
       "      <th></th>\n",
       "      <th>0</th>\n",
       "      <th>1</th>\n",
       "      <th>2</th>\n",
       "      <th>3</th>\n",
       "    </tr>\n",
       "  </thead>\n",
       "  <tbody>\n",
       "    <tr>\n",
       "      <th>0</th>\n",
       "      <td>id</td>\n",
       "      <td>src</td>\n",
       "      <td>dst</td>\n",
       "      <td>value</td>\n",
       "    </tr>\n",
       "    <tr>\n",
       "      <th>1</th>\n",
       "      <td>1</td>\n",
       "      <td>azure</td>\n",
       "      <td>.net</td>\n",
       "      <td>20.933192346640457</td>\n",
       "    </tr>\n",
       "    <tr>\n",
       "      <th>2</th>\n",
       "      <td>2</td>\n",
       "      <td>sql-server</td>\n",
       "      <td>.net</td>\n",
       "      <td>32.322524219339904</td>\n",
       "    </tr>\n",
       "    <tr>\n",
       "      <th>3</th>\n",
       "      <td>3</td>\n",
       "      <td>asp.net</td>\n",
       "      <td>.net</td>\n",
       "      <td>48.40702996199019</td>\n",
       "    </tr>\n",
       "    <tr>\n",
       "      <th>4</th>\n",
       "      <td>4</td>\n",
       "      <td>entity-framework</td>\n",
       "      <td>.net</td>\n",
       "      <td>24.37090250532431</td>\n",
       "    </tr>\n",
       "  </tbody>\n",
       "</table>\n",
       "</div>"
      ],
      "text/plain": [
       "    0                 1     2                   3\n",
       "0  id               src   dst               value\n",
       "1   1             azure  .net  20.933192346640457\n",
       "2   2        sql-server  .net  32.322524219339904\n",
       "3   3           asp.net  .net   48.40702996199019\n",
       "4   4  entity-framework  .net   24.37090250532431"
      ]
     },
     "execution_count": 13,
     "metadata": {},
     "output_type": "execute_result"
    }
   ],
   "source": [
    "df_links.head()"
   ]
  },
  {
   "cell_type": "code",
   "execution_count": 14,
   "metadata": {},
   "outputs": [],
   "source": [
    "def create_stackoverflow_graph():\n",
    "    nodes = spark.read.csv(\"data/stack_network_nodes.csv\", header=True)\n",
    "    relationships = spark.read.csv(\"data/stack_network_links.csv\", header=True)\n",
    "    return GraphFrame(nodes, relationships)"
   ]
  },
  {
   "cell_type": "code",
   "execution_count": 15,
   "metadata": {},
   "outputs": [],
   "source": [
    "g = create_stackoverflow_graph()"
   ]
  },
  {
   "cell_type": "code",
   "execution_count": 16,
   "metadata": {},
   "outputs": [
    {
     "name": "stdout",
     "output_type": "stream",
     "text": [
      "GraphFrame(v:[id: string, group: string ... 1 more field], e:[src: string, dst: string ... 2 more fields])\n"
     ]
    }
   ],
   "source": [
    "print(g)"
   ]
  },
  {
   "cell_type": "code",
   "execution_count": 17,
   "metadata": {},
   "outputs": [],
   "source": [
    "spark.stop()"
   ]
  }
 ],
 "metadata": {
  "kernelspec": {
   "display_name": "Python 3",
   "language": "python",
   "name": "python3"
  },
  "language_info": {
   "codemirror_mode": {
    "name": "ipython",
    "version": 3
   },
   "file_extension": ".py",
   "mimetype": "text/x-python",
   "name": "python",
   "nbconvert_exporter": "python",
   "pygments_lexer": "ipython3",
   "version": "3.7.9"
  }
 },
 "nbformat": 4,
 "nbformat_minor": 4
}
